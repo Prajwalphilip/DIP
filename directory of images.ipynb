{
 "cells": [
  {
   "cell_type": "code",
   "execution_count": 1,
   "metadata": {},
   "outputs": [
    {
     "name": "stdout",
     "output_type": "stream",
     "text": [
      "mean of image1 151.8459842952493\n",
      "mean of image2 77.39720839763375\n",
      "mean of image3 127.1820976401749\n",
      "mean of image4 42.05572542901716\n"
     ]
    }
   ],
   "source": [
    "import cv2\n",
    "from PIL import Image\n",
    "\n",
    "dict = { 1: r'C:\\Users\\User\\Pictures\\Saved Pictures\\1.jpeg',\n",
    "         2: r'C:\\Users\\User\\Pictures\\Saved Pictures\\2.jfif',\n",
    "         3: r'C:\\Users\\User\\Pictures\\Saved Pictures\\3.jfif',\n",
    "         4: r'C:\\Users\\User\\Pictures\\Saved Pictures\\AI.jpeg'  }\n",
    "\n",
    "\n",
    "\n",
    "\n",
    "for key, value in dict.items():\n",
    "    img=cv2.imread(value)\n",
    "    print(\"mean of image\" + str(key),img.mean())\n",
    "    cv2.imshow(\"Image\",img)\n",
    "    cv2.waitKey()\n",
    "    "
   ]
  },
  {
   "cell_type": "code",
   "execution_count": null,
   "metadata": {},
   "outputs": [],
   "source": []
  }
 ],
 "metadata": {
  "kernelspec": {
   "display_name": "Python 3",
   "language": "python",
   "name": "python3"
  },
  "language_info": {
   "codemirror_mode": {
    "name": "ipython",
    "version": 3
   },
   "file_extension": ".py",
   "mimetype": "text/x-python",
   "name": "python",
   "nbconvert_exporter": "python",
   "pygments_lexer": "ipython3",
   "version": "3.7.4"
  }
 },
 "nbformat": 4,
 "nbformat_minor": 2
}
