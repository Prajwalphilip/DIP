{
 "cells": [
  {
   "cell_type": "code",
   "execution_count": null,
   "metadata": {},
   "outputs": [],
   "source": [
    "import cv2\n",
    "img1 = cv2.imread (r'C:\\Users\\User\\Pictures\\Saved Pictures\\4.jpg')\n",
    "img2 = cv2.imread (r'C:\\Users\\User\\Pictures\\Saved Pictures\\3.jfif')\n",
    "cv2.imshow(\"image 1\",img1)\n",
    "cv2.imshow(\"image 2\",img2)\n",
    "\n",
    "img3=img1+img2\n",
    "cv2.imshow(\"image 3\",img3)\n",
    "cv2.waitKey()\n",
    "    "
   ]
  },
  {
   "cell_type": "code",
   "execution_count": null,
   "metadata": {},
   "outputs": [],
   "source": [
    "\n"
   ]
  }
 ],
 "metadata": {
  "kernelspec": {
   "display_name": "Python 3",
   "language": "python",
   "name": "python3"
  },
  "language_info": {
   "codemirror_mode": {
    "name": "ipython",
    "version": 3
   },
   "file_extension": ".py",
   "mimetype": "text/x-python",
   "name": "python",
   "nbconvert_exporter": "python",
   "pygments_lexer": "ipython3",
   "version": "3.7.4"
  }
 },
 "nbformat": 4,
 "nbformat_minor": 2
}
