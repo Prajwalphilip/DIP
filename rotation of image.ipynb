{
 "cells": [
  {
   "cell_type": "code",
   "execution_count": 6,
   "metadata": {},
   "outputs": [],
   "source": [
    "import cv2\n",
    " \n",
    "# read image as grey scale\n",
    "img = cv2.imread('AI.jpeg')\n",
    "# get image height, width\n",
    "(h, w) = img.shape[:2 ]\n",
    "# calculate the center of the image\n",
    "center = (w / 2, h / 2)\n",
    " \n",
    "angle90 = 90\n",
    "angle180 = 180\n",
    "angle270 = 270\n",
    "angle340 = 340\n",
    " \n",
    "scale = 1.0\n",
    " \n",
    "# Perform the counter clockwise rotation holding at the center\n",
    "# 90 degrees\n",
    "M = cv2.getRotationMatrix2D(center, angle90, scale)\n",
    "rotated90 = cv2.warpAffine(img, M, (h, w))\n",
    " \n",
    "# 180 degrees\n",
    "M = cv2.getRotationMatrix2D(center, angle180, scale)\n",
    "rotated180 = cv2.warpAffine(img, M, (w, h))\n",
    " \n",
    "# 270 degrees\n",
    "M = cv2.getRotationMatrix2D(center, angle270, scale)\n",
    "rotated270 = cv2.warpAffine(img, M, (h, w))\n",
    "\n",
    "# 340 degrees\n",
    "M = cv2.getRotationMatrix2D(center, angle340, scale)\n",
    "rotated340 = cv2.warpAffine(img, M, (h, w))\n",
    " \n",
    " \n",
    "cv2.imshow('Original Image',img)\n",
    "cv2.waitKey(0) \n",
    "cv2.destroyAllWindows()\n",
    " \n",
    "cv2.imshow('Image rotated by 90 degrees',rotated90)\n",
    "cv2.waitKey(0) \n",
    "cv2.destroyAllWindows() \n",
    " \n",
    "cv2.imshow('Image rotated by 180 degrees',rotated180)\n",
    "cv2.waitKey(0) \n",
    "cv2.destroyAllWindows() \n",
    " \n",
    "cv2.imshow('Image rotated by 270 degrees',rotated270)\n",
    "cv2.waitKey(0) \n",
    "cv2.destroyAllWindows() \n",
    "\n",
    "\n",
    "cv2.imshow('Image rotated by 340 degrees',rotated340)\n",
    "cv2.waitKey(0) \n",
    "cv2.destroyAllWindows() "
   ]
  },
  {
   "cell_type": "code",
   "execution_count": null,
   "metadata": {},
   "outputs": [],
   "source": []
  }
 ],
 "metadata": {
  "kernelspec": {
   "display_name": "Python 3",
   "language": "python",
   "name": "python3"
  },
  "language_info": {
   "codemirror_mode": {
    "name": "ipython",
    "version": 3
   },
   "file_extension": ".py",
   "mimetype": "text/x-python",
   "name": "python",
   "nbconvert_exporter": "python",
   "pygments_lexer": "ipython3",
   "version": "3.7.4"
  }
 },
 "nbformat": 4,
 "nbformat_minor": 2
}
